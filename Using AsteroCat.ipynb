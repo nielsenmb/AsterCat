{
 "cells": [
  {
   "cell_type": "markdown",
   "id": "9705be04",
   "metadata": {},
   "source": [
    "# Working with AsteroCat\n",
    "This notebook goes through a few tools for interacting with AsteroCat, mainly in the form of adding entries to the basket. The data will be stored in a fairly accesible manner, so reading and using data from the basket is fairly straightforward and we'll not go into too much detail here since it's probably going to be very user-specific.\n",
    "\n",
    "## The basket structure\n",
    "The main idea behind the AsteroCat catalog is to list targets that have been shown to exhibit solar-like oscillations. Non-detections can also be listed, but stars that have no yet been analyzed should not be.\n",
    "\n",
    "For each star, or catalog item, there can be several entries corresponding to each observation of oscillations that has been made. For example if someone detects oscillations in a given star with \\textit{Kepler} and then someone else also sees them with TESS, we should see two separate entries for that target, each showing some basic information about the observations.\n",
    "\n",
    "## An entry contains...\n",
    "The entry should probably be divided into a few sets of columns, one detailing the detection, one for the data and one for additional information on the target. \n",
    "\n",
    "- **Entry date:** When the entry is made.\n",
    "\n",
    "- **Detection probability:** Preferably 0-100. If a source doesn't provide this then 100 is fine, as long as the detection can be visually verified. The same for if a detection is only made with visual inspection.\n",
    "- **Detection source:** Which publication the detection is made in. Where possible try to use the original publication of the detection. If not from a publication just use initials or some useful identifier. \n",
    "- **Detection method:** This can be the name of the pipeline or if it's done visually. If the detection from a particular method requires visual verification it should be labeled as a visual detection, not as due to the method.\n",
    "- **Detection date:** When the detection is made. This is probably redundant with the source, so could just be the year.\n",
    "- **Detection numax:** optional, numax of the target if the detection method provides it.\n",
    "- **Detection dnu:** optional, dnu of the target if the detection method provides it.\n",
    "- **Detection multiplicity:** The number of identifiable oscillators in the spectrum. Usually 1, but should be >1 even if it's just a background star. True binarity can always be varified later. \n",
    "\n",
    "- **Data source:** The mission or instrument the data comes from. \n",
    "- **Data type:** RV or photometry (other?) \n",
    "- **Data length:** Length of the time series\n",
    "- **Data cadence:** Sampling rate of the time series. Just use the median rate.\n",
    "- **Data duty cycle:** 0-1. Number of cadences over the time series length divided by the median cadence.\n",
    "\n",
    "- **Target sky coords** Not sure, but could be useful for cross-matching purposes.\n",
    "- **Target simbad colors** Not sure, but could be useful for cross-matching purposes.\n",
    "\n",
    "## Once an entry has been created...\n",
    "When the user adds a a name for the target to the entry, we need to initiate a crossmatch to see if it the target is already in the catalog. Each unique target that has been entered will have a catalog identifier, and so if the target already exists it should be added to that catalog item. If not, a new entry should be added with a new catalog item identifier created for it. This identifier is for internal use only, and will have a bunch of other target names associated. \n",
    "\n",
    "At the top level these identifier should be listed in a catalog index file which shows the catalog name of the star, and probably a few other names for the target, probably Gaia, 2MASS, Beyer, HD, HR, HIP, Kepler, EPIC and TIC? \n",
    "\n",
    "The user can cross-reference their target name or catalog of names with this file to find the AsterCat entry name, which then allows for access to the data storage file. "
   ]
  },
  {
   "cell_type": "code",
   "execution_count": null,
   "id": "434aeec1",
   "metadata": {},
   "outputs": [],
   "source": []
  }
 ],
 "metadata": {
  "kernelspec": {
   "display_name": "Python 3 (ipykernel)",
   "language": "python",
   "name": "python3"
  },
  "language_info": {
   "codemirror_mode": {
    "name": "ipython",
    "version": 3
   },
   "file_extension": ".py",
   "mimetype": "text/x-python",
   "name": "python",
   "nbconvert_exporter": "python",
   "pygments_lexer": "ipython3",
   "version": "3.10.12"
  }
 },
 "nbformat": 4,
 "nbformat_minor": 5
}
